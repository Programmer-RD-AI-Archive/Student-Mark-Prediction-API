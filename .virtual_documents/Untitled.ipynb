import pandas as pd
import numpy as np
import seaborn as sns


data = pd.read_csv('./data/data.csv')


data.head()


data.columns


data.drop(' -', axis=1, inplace=True)


data


X, y = data['First Sem'], data[' Second Sem']


from sklearn.model_selection import train_test_split
X_train, X_test, y_train, y_test = train_test_split(X, y, test_size=0.25)


X_train = np.array(X_train)
X_test = np.array(X_test)
y_train = np.array(y_train)
y_test = np.array(y_test)


from sklearn.ensemble import RandomForestRegressor, AdaBoostRegressor, BaggingRegressor, ExtraTreesRegressor


model = RandomForestRegressor()
model.fit(X_train.reshape(-1, 1), y_train)


preds = model.predict(X_test.reshape(-1, 1))


from sklearn.metrics import mean_absolute_error, mean_squared_error, r2_score


# Predict the next semester marks using the test set
y_pred = model.predict(X_test.reshape(-1,1))

# Calculate regression metrics
mae = mean_absolute_error(y_test, y_pred)
mse = mean_squared_error(y_test, y_pred)
r2 = r2_score(y_test, y_pred)


mae, mse, r2


def train(model):
    model = model()
    model.fit(X_train.reshape(-1, 1), y_train)
    # Predict the next semester marks using the test set
    y_pred = model.predict(X_test.reshape(-1,1))
    mae = mean_absolute_error(y_test, y_pred)
    mse = mean_squared_error(y_test, y_pred)
    r2 = r2_score(y_test, y_pred)
    return mae, mse, r2, model, y_pred


train(AdaBoostRegressor)


train(BaggingRegressor)


train(ExtraTreesRegressor)


!pip install joblib


mae, mse, r2, model, y_pred = train(AdaBoostRegressor)


from joblib import dump, load

# Save the model to a file
dump(model, 'model.joblib')


# Load the model from the file
loaded_model = load('model.joblib')


loaded_model.predict(X_test.reshape(-1,1))



